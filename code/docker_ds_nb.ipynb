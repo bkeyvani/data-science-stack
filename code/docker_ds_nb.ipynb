{
 "cells": [
  {
   "cell_type": "code",
   "execution_count": null,
   "metadata": {},
   "outputs": [],
   "source": [
    "!env"
   ]
  },
  {
   "cell_type": "code",
   "execution_count": null,
   "metadata": {},
   "outputs": [],
   "source": [
    "import numpy as np\n",
    "import pandas as pd\n",
    "import sqlalchemy as sa"
   ]
  },
  {
   "cell_type": "code",
   "execution_count": null,
   "metadata": {},
   "outputs": [],
   "source": [
    "# DB VARIABLES\n",
    "DB_CONF = {\n",
    "    'DB_USERNAME': 'user',\n",
    "    'DB_PASSWORD': 'password',\n",
    "    'DB_HOST': 'db',\n",
    "    'DB_PORT': '5432',\n",
    "    'DB_NAME': 'db_name',\n",
    "}\n",
    "\n",
    "TABLE_NAME = 'db_tbl'"
   ]
  },
  {
   "cell_type": "code",
   "execution_count": null,
   "metadata": {},
   "outputs": [],
   "source": [
    "engine = sa.create_engine('postgresql://{DB_USERNAME}:{DB_PASSWORD}@{DB_HOST}:{DB_PORT}/{DB_NAME}'.format(**DB_CONF))"
   ]
  },
  {
   "cell_type": "code",
   "execution_count": null,
   "metadata": {},
   "outputs": [],
   "source": [
    "df = pd.DataFrame(\n",
    "        {'a': np.random.randint(0, 100, size=9),\n",
    "         'b': np.arange(9)},\n",
    "        index=pd.date_range(start='2019-01-01', periods=9, freq='W'))\n",
    "\n",
    "df"
   ]
  },
  {
   "cell_type": "code",
   "execution_count": null,
   "metadata": {},
   "outputs": [],
   "source": [
    "q = f\"\"\"\n",
    "SELECT\n",
    "  *\n",
    "FROM {TABLE_NAME}\n",
    "\"\"\""
   ]
  },
  {
   "cell_type": "code",
   "execution_count": null,
   "metadata": {},
   "outputs": [],
   "source": [
    "# Let's read the data that we have previously stored to the DB, which should be\n",
    "# different from `df` since the data is random.\n",
    "try:\n",
    "    df2 = pd.read_sql(q, engine, index_col='index')\n",
    "    print(df2)\n",
    "except (sa.exc.ProgrammingError) as err:\n",
    "    print(\"The first time you run this cell it will throw a \"\n",
    "          \"`psycopg2.errors.UndefinedTable` exception, because we haven't \"\n",
    "          \"written the table to the DB yet, so we are cathching and printing \"\n",
    "          \"it below.\\nInterestingly, we have to catch it using \"\n",
    "          \"`sqlalchemy.exc.ProgrammingError`.\\nSimply move on to the next \"\n",
    "          \"cell. You should not see this error again after you have created \"\n",
    "          \"the table. \")\n",
    "    print()\n",
    "    print(err)\n",
    "    pass"
   ]
  },
  {
   "cell_type": "code",
   "execution_count": null,
   "metadata": {},
   "outputs": [],
   "source": [
    "df.to_sql(TABLE_NAME, engine, if_exists='replace')"
   ]
  },
  {
   "cell_type": "code",
   "execution_count": null,
   "metadata": {},
   "outputs": [],
   "source": [
    "df3 = pd.read_sql(q, engine, index_col='index')\n",
    "df3"
   ]
  }
 ],
 "metadata": {
  "kernelspec": {
   "display_name": "Python 3",
   "language": "python",
   "name": "python3"
  },
  "language_info": {
   "codemirror_mode": {
    "name": "ipython",
    "version": 3
   },
   "file_extension": ".py",
   "mimetype": "text/x-python",
   "name": "python",
   "nbconvert_exporter": "python",
   "pygments_lexer": "ipython3",
   "version": "3.7.3"
  }
 },
 "nbformat": 4,
 "nbformat_minor": 2
}
